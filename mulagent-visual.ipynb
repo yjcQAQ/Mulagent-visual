{
 "cells": [
  {
   "cell_type": "code",
   "execution_count": null,
   "id": "e7d29ed6",
   "metadata": {},
   "outputs": [],
   "source": [
    "#  CartPole-v0 demo\n",
    "import gym\n",
    "from IPython import display\n",
    "import matplotlib\n",
    "import matplotlib.pyplot as plt\n",
    "%matplotlib inline\n",
    "\n",
    "env = gym.make('CartPole-v0')\n",
    "env.reset()\n",
    "img = plt.imshow(env.render(mode='rgb_array')) # only call this once\n",
    "for _ in range(100):\n",
    "    img.set_data(env.render(mode='rgb_array')) # just update the data\n",
    "    display.display(plt.gcf())\n",
    "    display.clear_output(wait=True)\n",
    "    action = env.action_space.sample()\n",
    "    env.step(action)"
   ]
  },
  {
   "cell_type": "code",
   "execution_count": null,
   "id": "237eee3f",
   "metadata": {},
   "outputs": [],
   "source": [
    "# mulagent\n",
    "from stable_baselines3.ppo import CnnPolicy\n",
    "from stable_baselines3 import PPO\n",
    "from pettingzoo.butterfly import pistonball_v4\n",
    "import supersuit as ss"
   ]
  },
  {
   "cell_type": "code",
   "execution_count": null,
   "id": "e4e3c499",
   "metadata": {},
   "outputs": [],
   "source": [
    "env = pistonball_v4.parallel_env(n_pistons=20, local_ratio=0, time_penalty=-0.1, continuous=True, random_drop=True, random_rotate=True, ball_mass=0.75, ball_friction=0.3, ball_elasticity=1.5, max_cycles=125)\n",
    "env = ss.color_reduction_v0(env, mode='B')\n",
    "env = ss.resize_v0(env, x_size=84, y_size=84)\n",
    "env = ss.frame_stack_v1(env, 3)\n",
    "env = ss.pettingzoo_env_to_vec_env_v0(env)\n",
    "env = ss.concat_vec_envs_v0(env, 8, num_cpus=4, base_class='stable_baselines3')"
   ]
  },
  {
   "cell_type": "code",
   "execution_count": 4,
   "id": "ddf7782c",
   "metadata": {},
   "outputs": [
    {
     "name": "stdout",
     "output_type": "stream",
     "text": [
      "Using cpu device\n",
      "Wrapping the env in a VecTransposeImage.\n"
     ]
    }
   ],
   "source": [
    "model = PPO(CnnPolicy, env, verbose=3, gamma=0.95, n_steps=256, ent_coef=0.0905168, learning_rate=0.00062211, vf_coef=0.042202, max_grad_norm=0.9, gae_lambda=0.99, n_epochs=5, clip_range=0.3, batch_size=256)"
   ]
  },
  {
   "cell_type": "code",
   "execution_count": 5,
   "id": "c86f2225",
   "metadata": {},
   "outputs": [
    {
     "name": "stdout",
     "output_type": "stream",
     "text": [
      "------------------------------\n",
      "| time/              |       |\n",
      "|    fps             | 1270  |\n",
      "|    iterations      | 1     |\n",
      "|    time_elapsed    | 32    |\n",
      "|    total_timesteps | 40960 |\n",
      "------------------------------\n"
     ]
    },
    {
     "data": {
      "text/plain": [
       "<stable_baselines3.ppo.ppo.PPO at 0x7fa552afca50>"
      ]
     },
     "execution_count": 5,
     "metadata": {},
     "output_type": "execute_result"
    }
   ],
   "source": [
    "model.learn(total_timesteps=3)"
   ]
  },
  {
   "cell_type": "code",
   "execution_count": 6,
   "id": "10e108c8",
   "metadata": {},
   "outputs": [],
   "source": [
    "model.save(\"policy\")"
   ]
  },
  {
   "cell_type": "code",
   "execution_count": 7,
   "id": "66d9ce2e",
   "metadata": {},
   "outputs": [],
   "source": [
    "env = pistonball_v4.env()\n",
    "env = ss.color_reduction_v0(env, mode='B')\n",
    "env = ss.resize_v0(env, x_size=84, y_size=84)\n",
    "env = ss.frame_stack_v1(env, 3)"
   ]
  },
  {
   "cell_type": "code",
   "execution_count": 8,
   "id": "f671c93b",
   "metadata": {},
   "outputs": [],
   "source": [
    "model = PPO.load(\"policy\")"
   ]
  },
  {
   "cell_type": "code",
   "execution_count": null,
   "id": "fced8bf5",
   "metadata": {},
   "outputs": [],
   "source": [
    "import gym\n",
    "from IPython import display\n",
    "import matplotlib\n",
    "import matplotlib.pyplot as plt\n",
    "%matplotlib inline\n",
    "env.reset()\n",
    "img = plt.imshow(env.render(mode='rgb_array'))\n",
    "for agent in env.agent_iter():\n",
    "    img.set_data(env.render(mode='rgb_array'))\n",
    "    display.display(plt.gcf())\n",
    "    display.clear_output(wait=True)\n",
    "    obs, reward, done, info = env.last()\n",
    "    act = model.predict(obs, deterministic=True)[0] if not done else None\n",
    "    env.step(act)\n",
    "#     env.render()\n"
   ]
  }
 ],
 "metadata": {
  "kernelspec": {
   "display_name": "Python 3 (ipykernel)",
   "language": "python",
   "name": "python3"
  },
  "language_info": {
   "codemirror_mode": {
    "name": "ipython",
    "version": 3
   },
   "file_extension": ".py",
   "mimetype": "text/x-python",
   "name": "python",
   "nbconvert_exporter": "python",
   "pygments_lexer": "ipython3",
   "version": "3.7.10"
  }
 },
 "nbformat": 4,
 "nbformat_minor": 5
}
